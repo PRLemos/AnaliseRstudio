{
  "nbformat": 4,
  "nbformat_minor": 0,
  "metadata": {
    "colab": {
      "provenance": [],
      "authorship_tag": "ABX9TyMMI/N7yGAuxLvH/Ukkz//z",
      "include_colab_link": true
    },
    "kernelspec": {
      "name": "python3",
      "display_name": "Python 3"
    },
    "language_info": {
      "name": "python"
    }
  },
  "cells": [
    {
      "cell_type": "markdown",
      "metadata": {
        "id": "view-in-github",
        "colab_type": "text"
      },
      "source": [
        "<a href=\"https://colab.research.google.com/github/PRLemos/AnaliseRstudio/blob/main/Lista_de_convidados.ipynb\" target=\"_parent\"><img src=\"https://colab.research.google.com/assets/colab-badge.svg\" alt=\"Open In Colab\"/></a>"
      ]
    },
    {
      "cell_type": "code",
      "execution_count": 13,
      "metadata": {
        "colab": {
          "base_uri": "https://localhost:8080/"
        },
        "id": "KSfGQk3j6iA7",
        "outputId": "a490ae68-6fe7-40c9-a98f-9f70f6ba1a3f"
      },
      "outputs": [
        {
          "output_type": "stream",
          "name": "stdout",
          "text": [
            "Lista de presença pra Inauguração\n",
            "#############################################\n",
            "Coloque o numero de convidados: 2\n",
            "Coloque o nome do convidado #1: Paulo\n",
            "Coloque o nome do convidado #2: Kelly\n",
            "Serão 2 convidados\n",
            "\n",
            "LISTA DE CONVIDADOS\n",
            "Paulo\n",
            "Kelly\n"
          ]
        }
      ],
      "source": [
        "# Script para gerar lista de convidados armazenar numero de comvidados e printar lista\n",
        "\n",
        "\n",
        "print('Lista de presença pra Inauguração')\n",
        "print ('#############################################')\n",
        "\n",
        "\n",
        "Numero_de_convidados = input('Coloque o numero de convidados: ')\n",
        "lista_de_Convidados = []\n",
        "\n",
        "\n",
        "i = 1\n",
        "\n",
        "while i <= int(Numero_de_convidados):\n",
        "     nome_do_convidado = input('Coloque o nome do convidado #'+ str(i) + ': ')\n",
        "     lista_de_Convidados.append(nome_do_convidado)\n",
        "     i += 1\n",
        "print(\"Serão\", Numero_de_convidados, \"convidados\")\n",
        "\n",
        "print('\\nLISTA DE CONVIDADOS')\n",
        "\n",
        "for convidado in lista_de_Convidados :\n",
        "    print(convidado)\n"
      ]
    },
    {
      "cell_type": "code",
      "source": [],
      "metadata": {
        "colab": {
          "base_uri": "https://localhost:8080/"
        },
        "id": "cHvyB2vHCiWb",
        "outputId": "fcd6cb65-070d-4a11-8540-b9b46021c147"
      },
      "execution_count": 10,
      "outputs": [
        {
          "output_type": "stream",
          "name": "stdout",
          "text": [
            "Programinha de controle de festinhas 1.0\n",
            "########################################\n",
            "Coloque o numero de convidados: 2\n",
            "Coloque o nome do convidado #1: Ana\n",
            "Coloque o nome do convidado #2: Bia\n",
            "Serão 2 convidados\n",
            "\n",
            "LISTA DE CONVIDADOS\n",
            "Ana\n",
            "Bia\n"
          ]
        }
      ]
    }
  ]
}